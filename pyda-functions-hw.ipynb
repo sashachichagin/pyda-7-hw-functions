{
 "cells": [
  {
   "cell_type": "markdown",
   "metadata": {},
   "source": [
    "## Задание 1"
   ]
  },
  {
   "cell_type": "markdown",
   "metadata": {},
   "source": [
    "Дан список вида:"
   ]
  },
  {
   "cell_type": "code",
   "execution_count": 1,
   "metadata": {},
   "outputs": [],
   "source": [
    "data = [\n",
    "    [13, 25, 23, 34],\n",
    "    [45, 32, 44, 47],\n",
    "    [12, 33, 23, 95],\n",
    "    [13, 53, 34, 35]\n",
    "]"
   ]
  },
  {
   "cell_type": "markdown",
   "metadata": {},
   "source": [
    "Напишите функцию, которая возвращает сумму элементов на диагонали. Т. е. 13+32+23+35.  \n",
    "Список может быть любой длины, но всегда является \"квадратным\" (количество элементов во вложенных списках равно их количеству)."
   ]
  },
  {
   "cell_type": "code",
   "execution_count": 2,
   "metadata": {},
   "outputs": [],
   "source": [
    "# Функция проверки, что список является \"квадратным\"\n",
    "\n",
    "def check():\n",
    "    for element in data:\n",
    "        if len(data) != len(element):\n",
    "            return False\n",
    "    return True"
   ]
  },
  {
   "cell_type": "code",
   "execution_count": 3,
   "metadata": {},
   "outputs": [],
   "source": [
    "def sum_diag():\n",
    "    if check() == True:\n",
    "        sum_diag = 0\n",
    "        for i, element in enumerate(data):\n",
    "            sum_diag += element[i]\n",
    "        return (sum_diag)\n",
    "    else:\n",
    "        return ('Некорректный список')"
   ]
  },
  {
   "cell_type": "code",
   "execution_count": 4,
   "metadata": {},
   "outputs": [
    {
     "data": {
      "text/plain": [
       "103"
      ]
     },
     "execution_count": 4,
     "metadata": {},
     "output_type": "execute_result"
    }
   ],
   "source": [
    "sum_diag()"
   ]
  },
  {
   "cell_type": "markdown",
   "metadata": {},
   "source": [
    "## Задание 2"
   ]
  },
  {
   "cell_type": "markdown",
   "metadata": {},
   "source": [
    "Напишите функцию, возвращающую сумму первых n чисел Фибоначчи (для этого вам может понадобится ознакомиться с рекурсией)."
   ]
  },
  {
   "cell_type": "code",
   "execution_count": 5,
   "metadata": {},
   "outputs": [],
   "source": [
    "def fib(n):\n",
    "    \"\"\"\n",
    "    Вспомогательная рекурсивная функция, которая определяет число Фибоначчи по его номеру.\n",
    "    Последовательность Фибоначчи: 0, 1, 1, 2, 3, 5, 8, 13, 21, 34, 55, ...\n",
    "    \n",
    "    fib (5)\n",
    "    >>> 3\n",
    "    \"\"\"\n",
    "    if n == 1:\n",
    "        return 0\n",
    "    elif n == 2:\n",
    "        return 1\n",
    "    elif n >= 2:\n",
    "        return fib (n-1) + fib (n-2)      "
   ]
  },
  {
   "cell_type": "code",
   "execution_count": 6,
   "metadata": {},
   "outputs": [],
   "source": [
    "def sum_fib(number):\n",
    "    \"\"\"\n",
    "    Функция, которая возвращает сумму первых number чисел Фибоначчи.\n",
    "    Последовательность Фибоначчи: 0, 1, 1, 2, 3, 5, 8, 13, 21, 34, 55, ...\n",
    "    \n",
    "    sum_fib (5)\n",
    "    >>> 7\n",
    "    Т.е. 0 + 1 + 1 + 2 + 3\n",
    "    \"\"\"\n",
    "    sum_number = 0\n",
    "    for n in range (1, number + 1):\n",
    "        sum_number = fib (n) + sum_number\n",
    "    return sum_number"
   ]
  },
  {
   "cell_type": "code",
   "execution_count": 7,
   "metadata": {},
   "outputs": [
    {
     "data": {
      "text/plain": [
       "7"
      ]
     },
     "execution_count": 7,
     "metadata": {},
     "output_type": "execute_result"
    }
   ],
   "source": [
    "sum_fib(5)"
   ]
  },
  {
   "cell_type": "markdown",
   "metadata": {},
   "source": [
    "## Задание 3\n"
   ]
  },
  {
   "cell_type": "markdown",
   "metadata": {},
   "source": [
    "Напишите функцию, преобразующую произвольный список вида ['2018-01-01', 'yandex', 'cpc', 100] (он может быть любой длины) в словарь {'2018-01-01': {'yandex': {'cpc': 100}}}"
   ]
  },
  {
   "cell_type": "code",
   "execution_count": 8,
   "metadata": {},
   "outputs": [],
   "source": [
    "list_data = ['2018-01-01', 'yandex', 'cpc', 100]"
   ]
  },
  {
   "cell_type": "code",
   "execution_count": 9,
   "metadata": {},
   "outputs": [],
   "source": [
    "def lict_to_dict(list_data):\n",
    "    \n",
    "    dct_data = {list_data[-2]: list_data[-1]}\n",
    "    for i in range (3, len(list_data)+1):\n",
    "        dct_data = {list_data[-i]: dct_data}\n",
    "    return dct_data"
   ]
  },
  {
   "cell_type": "code",
   "execution_count": 10,
   "metadata": {},
   "outputs": [
    {
     "data": {
      "text/plain": [
       "{'2018-01-01': {'yandex': {'cpc': 100}}}"
      ]
     },
     "execution_count": 10,
     "metadata": {},
     "output_type": "execute_result"
    }
   ],
   "source": [
    "lict_to_dict(list_data)"
   ]
  },
  {
   "cell_type": "markdown",
   "metadata": {},
   "source": [
    "## Задание 4"
   ]
  },
  {
   "cell_type": "markdown",
   "metadata": {},
   "source": [
    "Вы работаете секретарем и вам постоянно приходят различные документы. Вы должны быть очень внимательны, чтобы не потерять ни один документ. Каталог документов хранится в следующем виде:"
   ]
  },
  {
   "cell_type": "code",
   "execution_count": 11,
   "metadata": {},
   "outputs": [],
   "source": [
    "documents = [\n",
    "    {'type': 'passport', 'number': '2207 876234', 'name': 'Василий Гупкин'},\n",
    "    {'type': 'invoice', 'number': '11-2', 'name': 'Геннадий Покемонов'},\n",
    "    {'type': 'insurance', 'number': '10006', 'name': 'Аристарх Павлов'}\n",
    "]"
   ]
  },
  {
   "cell_type": "markdown",
   "metadata": {},
   "source": [
    "Перечень полок, на которых находятся документы хранится в следующем виде:"
   ]
  },
  {
   "cell_type": "code",
   "execution_count": 12,
   "metadata": {},
   "outputs": [],
   "source": [
    "directories = {\n",
    "    '1': ['2207 876234', '11-2', '5455 028765'],\n",
    "    '2': ['10006', '5400 028765', '5455 002299'],\n",
    "    '3': []\n",
    "}"
   ]
  },
  {
   "cell_type": "markdown",
   "metadata": {},
   "source": [
    "Необходимо реализовать пользовательские команды (внимание! это не название функций, которые должны быть выразительными, а команды, которые вводит пользователь, чтобы получить необходимый результат):\n",
    "  \n",
    "- p – people – команда, которая спросит номер документа и выведет имя человека, которому он принадлежит;  \n",
    "- s – shelf – команда, которая спросит номер документа и выведет номер полки, на которой он находится  \n",
    "Правильно обработайте ситуацию, когда пользователь будет вводить несуществующий документ.\n",
    "- l – list – команда, которая выведет список всех документов в формате   \n",
    "**passport \"2207 876234\" \"Василий Гупкин\"**  \n",
    "- as – add shelf – команда, которая спросит номер новой полки и добавит ее в перечень\n",
    "- d – delete – команда, которая спросит номер документа и удалит его из каталога и из перечня полок. Предусмотрите сценарий, когда пользователь вводит несуществующий документ;  \n",
    "- m – move – команда, которая спросит номер документа и целевую полку и переместит его с текущей полки на целевую. Корректно обработайте кейсы, когда пользователь пытается переместить несуществующий документ или переместить документ на несуществующую полку;  \n",
    "- a – add – команда, которая добавит новый документ в каталог и в перечень полок, спросив его номер, тип, имя владельца и номер полки, на котором он будет храниться."
   ]
  },
  {
   "cell_type": "code",
   "execution_count": 13,
   "metadata": {},
   "outputs": [],
   "source": [
    "def list_command():\n",
    "    \"\"\"\n",
    "    Вводятся следующие функции\n",
    "    p – people, s – shelf, l – list, as – add shelf, d – delete, m – move, a – add\n",
    "    \"\"\"\n",
    "    command = input('Введите команду (p, s, l, as, d, m, a) ')\n",
    "           \n",
    "    if command == 'p':\n",
    "        def command_p():\n",
    "            i = 1\n",
    "            number_doc = input('Введите номер документа ')\n",
    "            print('\\n')\n",
    "\n",
    "            for element in documents:\n",
    "                if element['number'] == number_doc:\n",
    "                    print('Документ принадлежит ',element['name'])\n",
    "                    i = 0\n",
    "                    break\n",
    "            if i == 1:        \n",
    "                print('Документ не идентифицируется с человеком')\n",
    "        return command_p()  \n",
    "\n",
    "    \n",
    "    elif command == 's':\n",
    "        def command_s():\n",
    "            i = 1\n",
    "            number_doc = input('Введите номер документа ')\n",
    "            print('\\n')\n",
    "\n",
    "            for element in directories.items():\n",
    "                for el in element[1]:\n",
    "                    if el == number_doc:\n",
    "                        print('Номер полки ', element[0])\n",
    "                        i = 0\n",
    "                        break\n",
    "            if i == 1:        \n",
    "                print('Документ не хранится')\n",
    "        return command_s()\n",
    "\n",
    "    \n",
    "    elif command == 'l':\n",
    "        def command_l():\n",
    "            i = 1\n",
    "            print('\\n')\n",
    "            for element in documents:\n",
    "                k = list(element.values())\n",
    "                print ('\"'.join([k[0], k[1],'',k[2],'']))\n",
    "        return command_l()   \n",
    "       \n",
    "    \n",
    "    elif command == 'as':\n",
    "        def command_as():\n",
    "            i = 1\n",
    "            number_directory = input('Введите номер новой полки ')\n",
    "            print('\\n')\n",
    "\n",
    "            if number_directory not in directories:\n",
    "                directories[number_directory] = []\n",
    "                print('Полка добавлена')\n",
    "            else:\n",
    "                print('Полка уже существует')\n",
    "        return command_as()   \n",
    "       \n",
    "\n",
    "    elif command == 'd':\n",
    "        def command_d():\n",
    "            i = 1\n",
    "            number_doc = input('Введите номер документа ')\n",
    "            print('\\n')\n",
    "\n",
    "            for element in documents:\n",
    "                 if element['number'] == number_doc:\n",
    "                    documents.remove(element)\n",
    "                    print('Документ из каталога удален')\n",
    "                    i = 0\n",
    "                    break\n",
    "            if i == 1:        \n",
    "                print('Документ отсутствует в каталоге')\n",
    "\n",
    "            i = 1\n",
    "            for element in directories.items():\n",
    "                for el in element[1]:\n",
    "                    if el == number_doc:\n",
    "                        element[1].remove(el)\n",
    "                        print('Документ удален из перечня на полке')\n",
    "                        i = 0\n",
    "                        break\n",
    "            if i == 1:        \n",
    "                print('Документ отсутствует на полке') \n",
    "        return command_d()   \n",
    "       \n",
    "\n",
    "    elif command == 'm':\n",
    "        def command_m():\n",
    "            i = 1\n",
    "            number_doc = input('Введите номер документа ')\n",
    "            number_directory = input('Введите номер полки в которую переместить документ ')\n",
    "            print('\\n')\n",
    "\n",
    "            for element in directories.items():\n",
    "                for el in element[1]:\n",
    "                    if el == number_doc:\n",
    "                        try:\n",
    "                            element[1].remove(el)\n",
    "                            directories[number_directory].append(number_doc)\n",
    "                            print('Документ удален с полки номер ', element[0])\n",
    "                            print('Документ перемещён на полку с номером ', number_directory)\n",
    "                        except:\n",
    "                            print('Введена несуществующая полка')\n",
    "                            element[1].append(el)\n",
    "                        i = 0\n",
    "                        break\n",
    "                if i == 0:        \n",
    "                    break  \n",
    "            if i == 1:        \n",
    "                print('Документ не хранится')   \n",
    "        return command_m() \n",
    "\n",
    "    elif command == 'a':\n",
    "        def command_a():\n",
    "            i = 1\n",
    "            j = 1\n",
    "            number_doc = input('Введите номер документа ')\n",
    "            type_doc = input('Введите тип документа ')\n",
    "            name_doc = input('Введите имя владельца документа ')\n",
    "            number_directory = input('Введите номер полки на которой будет находится документ ')\n",
    "            print('\\n')\n",
    "\n",
    "            for element in documents:\n",
    "                if element['number'] == number_doc:\n",
    "                    print('Документ уже присутствует в каталоге')\n",
    "                    i = 0\n",
    "                    break\n",
    "               \n",
    "            for element in directories.items():\n",
    "                for el in element[1]:\n",
    "                    if el == number_doc:\n",
    "                        print('Документ уже есть на полке номер', element[0])      \n",
    "                        j = 0\n",
    "                        break\n",
    "                if j == 0:        \n",
    "                    break  \n",
    "                    \n",
    "            if j == 1:\n",
    "                try:\n",
    "                    directories[number_directory].append(number_doc)\n",
    "                    print('Документ размещён на полку ')\n",
    "                    j = 0\n",
    "                except:\n",
    "                    print('Введена несуществующая полка, документ не добавлен в каталог ')\n",
    "                    \n",
    "            if i == 1 and j == 0:\n",
    "                    documents.append({'type': type_doc, 'number': number_doc, 'name': name_doc})\n",
    "                    print('Документ добавлен в каталог ')                         \n",
    "        return command_a() \n",
    "\n",
    "    else:\n",
    "        print('Введена несуществующая команда')\n"
   ]
  },
  {
   "cell_type": "code",
   "execution_count": 14,
   "metadata": {},
   "outputs": [
    {
     "name": "stdout",
     "output_type": "stream",
     "text": [
      "Введите команду (p, s, l, as, d, m, a) l\n",
      "\n",
      "\n",
      "passport\"2207 876234\"\"Василий Гупкин\"\n",
      "invoice\"11-2\"\"Геннадий Покемонов\"\n",
      "insurance\"10006\"\"Аристарх Павлов\"\n"
     ]
    }
   ],
   "source": [
    "list_command()"
   ]
  },
  {
   "cell_type": "code",
   "execution_count": null,
   "metadata": {},
   "outputs": [],
   "source": [
    "documents"
   ]
  },
  {
   "cell_type": "code",
   "execution_count": null,
   "metadata": {},
   "outputs": [],
   "source": [
    "directories"
   ]
  }
 ],
 "metadata": {
  "kernelspec": {
   "display_name": "Python 3",
   "language": "python",
   "name": "python3"
  },
  "language_info": {
   "codemirror_mode": {
    "name": "ipython",
    "version": 3
   },
   "file_extension": ".py",
   "mimetype": "text/x-python",
   "name": "python",
   "nbconvert_exporter": "python",
   "pygments_lexer": "ipython3",
   "version": "3.7.4"
  }
 },
 "nbformat": 4,
 "nbformat_minor": 2
}
